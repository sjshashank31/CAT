import pandas as pd
from sklearn.cluster import KMeans
import numpy as np
import matplotlib.pyplot as plt
%matplotlib inline

df = pd.read_csv('2.csv')
y=[]
for i in df:
    y.append(sum(df[i]*100/df.shape[0]))
    
x = [i for i in range(df.shape[1])]

k= 3

df1 = pd.DataFrame({
            'x': x,
            'y': y
}
)
kmeans = KMeans(n_clusters=3)
kmeans.fit(df1)

labels = kmeans.predict(df1)
labels
kmeans.cluster_centers_


fig = plt.figure(figsize=(5,10))
colors = map(lambda a: colmap[a+1], labels)
colors1 = list(colors)
plt.scatter(df1['x'], df1['y'], color=colors1, edgecolor='k')
